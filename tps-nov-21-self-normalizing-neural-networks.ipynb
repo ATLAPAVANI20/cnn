{
 "cells": [
  {
   "cell_type": "markdown",
   "id": "6acba0c5",
   "metadata": {
    "_cell_guid": "b1076dfc-b9ad-4769-8c92-a6c4dae69d19",
    "_uuid": "8f2839f25d086af736a60e9eeb907d3b93b6e0e5",
    "papermill": {
     "duration": 0.010473,
     "end_time": "2021-11-07T13:52:47.720388",
     "exception": false,
     "start_time": "2021-11-07T13:52:47.709915",
     "status": "completed"
    },
    "tags": []
   },
   "source": [
    "# Introduction"
   ]
  },
  {
   "cell_type": "markdown",
   "id": "bb86ba06",
   "metadata": {
    "papermill": {
     "duration": 0.008715,
     "end_time": "2021-11-07T13:52:47.738399",
     "exception": false,
     "start_time": "2021-11-07T13:52:47.729684",
     "status": "completed"
    },
    "tags": []
   },
   "source": [
    "While FFNs (Feed Forward Networks) with Batch Normalization holds great potential to harness the many levels of abstract representations that comes with a deep network, the number of layers is limited by SGD. This is because after a certain number of few layers, SGD becomes unstable and the network starts to encounter problems such as vanishing and exploding gradients. Moreover, SGD and regularization techniques like dropout often perturbs Batch Normalization leading to high variance in training error. These problems are solved by Self Normalizing Neural Networks.\n",
    "\n",
    "Self-Normalizing Neural Networks (SNNs) are neural networks which automatically keep their activations at zero-mean and unit-variance (per neuron). This is accomplished through the use of SeLU activation function which requires LeCun Normal kernel initialization.\n",
    "\n",
    "Following is an excerpt from the [research paper](https://arxiv.org/pdf/1706.02515.pdf) of Self Normalizing Neural Networks:\n",
    "\n",
    "> Self-normalizing neural networks (SNNs) are robust to perturbations and do not have high variance\n",
    "in their training errors. SNNs push neuron activations to zero mean and unit variance\n",
    "thereby leading to the same effect as batch normalization, which enables to robustly learn many\n",
    "layers. SNNs are based on scaled exponential linear units “SELUs” which induce self-normalizing\n",
    "properties like variance stabilization which in turn avoids exploding and vanishing gradients."
   ]
  },
  {
   "cell_type": "markdown",
   "id": "cf1e0b08",
   "metadata": {
    "papermill": {
     "duration": 0.010741,
     "end_time": "2021-11-07T13:52:47.758742",
     "exception": false,
     "start_time": "2021-11-07T13:52:47.748001",
     "status": "completed"
    },
    "tags": []
   },
   "source": [
    "# Code"
   ]
  },
  {
   "cell_type": "markdown",
   "id": "7adc53e0",
   "metadata": {
    "papermill": {
     "duration": 0.008683,
     "end_time": "2021-11-07T13:52:47.776428",
     "exception": false,
     "start_time": "2021-11-07T13:52:47.767745",
     "status": "completed"
    },
    "tags": []
   },
   "source": [
    "## Some preprocessing"
   ]
  },
  {
   "cell_type": "code",
   "execution_count": 2,
   "id": "c1e8c8f2",
   "metadata": {},
   "outputs": [
    {
     "name": "stdout",
     "output_type": "stream",
     "text": [
      "Note: you may need to restart the kernel to use updated packages.\n"
     ]
    },
    {
     "name": "stderr",
     "output_type": "stream",
     "text": [
      "ERROR: Could not find a version that satisfies the requirement tensorflow (from versions: none)\n",
      "ERROR: No matching distribution found for tensorflow\n"
     ]
    }
   ],
   "source": [
    "pip install tensorflow"
   ]
  },
  {
   "cell_type": "code",
   "execution_count": 2,
   "id": "f0938c2f",
   "metadata": {
    "execution": {
     "iopub.execute_input": "2021-11-07T13:52:47.798768Z",
     "iopub.status.busy": "2021-11-07T13:52:47.797663Z",
     "iopub.status.idle": "2021-11-07T13:52:47.805322Z",
     "shell.execute_reply": "2021-11-07T13:52:47.805909Z",
     "shell.execute_reply.started": "2021-11-07T05:17:04.946208Z"
    },
    "papermill": {
     "duration": 0.020811,
     "end_time": "2021-11-07T13:52:47.806263",
     "exception": false,
     "start_time": "2021-11-07T13:52:47.785452",
     "status": "completed"
    },
    "tags": []
   },
   "outputs": [],
   "source": [
    "import numpy as np\n",
    "import pandas as pd"
   ]
  },
  {
   "cell_type": "code",
   "execution_count": 3,
   "id": "f7fe8ed0",
   "metadata": {
    "execution": {
     "iopub.execute_input": "2021-11-07T13:52:47.829715Z",
     "iopub.status.busy": "2021-11-07T13:52:47.828805Z",
     "iopub.status.idle": "2021-11-07T13:53:13.120662Z",
     "shell.execute_reply": "2021-11-07T13:53:13.121282Z",
     "shell.execute_reply.started": "2021-11-07T05:17:05.565619Z"
    },
    "papermill": {
     "duration": 25.305159,
     "end_time": "2021-11-07T13:53:13.121500",
     "exception": false,
     "start_time": "2021-11-07T13:52:47.816341",
     "status": "completed"
    },
    "tags": []
   },
   "outputs": [
    {
     "ename": "FileNotFoundError",
     "evalue": "[Errno 2] No such file or directory: '../input/tabular-playground-series-nov-2021/train.csv'",
     "output_type": "error",
     "traceback": [
      "\u001b[1;31m---------------------------------------------------------------------------\u001b[0m",
      "\u001b[1;31mFileNotFoundError\u001b[0m                         Traceback (most recent call last)",
      "\u001b[1;32mC:\\Users\\ATLAPA~1\\AppData\\Local\\Temp/ipykernel_14640/4115186971.py\u001b[0m in \u001b[0;36m<module>\u001b[1;34m\u001b[0m\n\u001b[1;32m----> 1\u001b[1;33m \u001b[0mtrain_df\u001b[0m \u001b[1;33m=\u001b[0m \u001b[0mpd\u001b[0m\u001b[1;33m.\u001b[0m\u001b[0mread_csv\u001b[0m\u001b[1;33m(\u001b[0m\u001b[1;34m\"../input/tabular-playground-series-nov-2021/train.csv\"\u001b[0m\u001b[1;33m)\u001b[0m\u001b[1;33m\u001b[0m\u001b[1;33m\u001b[0m\u001b[0m\n\u001b[0m\u001b[0;32m      2\u001b[0m \u001b[0mtest_df\u001b[0m \u001b[1;33m=\u001b[0m \u001b[0mpd\u001b[0m\u001b[1;33m.\u001b[0m\u001b[0mread_csv\u001b[0m\u001b[1;33m(\u001b[0m\u001b[1;34m\"../input/tabular-playground-series-nov-2021/test.csv\"\u001b[0m\u001b[1;33m)\u001b[0m\u001b[1;33m\u001b[0m\u001b[1;33m\u001b[0m\u001b[0m\n\u001b[0;32m      3\u001b[0m \u001b[0msub_df\u001b[0m \u001b[1;33m=\u001b[0m \u001b[0mpd\u001b[0m\u001b[1;33m.\u001b[0m\u001b[0mread_csv\u001b[0m\u001b[1;33m(\u001b[0m\u001b[1;34m\"../input/tabular-playground-series-nov-2021/sample_submission.csv\"\u001b[0m\u001b[1;33m)\u001b[0m\u001b[1;33m\u001b[0m\u001b[1;33m\u001b[0m\u001b[0m\n",
      "\u001b[1;32m~\\AppData\\Local\\Programs\\Python\\Python310\\lib\\site-packages\\pandas\\util\\_decorators.py\u001b[0m in \u001b[0;36mwrapper\u001b[1;34m(*args, **kwargs)\u001b[0m\n\u001b[0;32m    309\u001b[0m                     \u001b[0mstacklevel\u001b[0m\u001b[1;33m=\u001b[0m\u001b[0mstacklevel\u001b[0m\u001b[1;33m,\u001b[0m\u001b[1;33m\u001b[0m\u001b[1;33m\u001b[0m\u001b[0m\n\u001b[0;32m    310\u001b[0m                 )\n\u001b[1;32m--> 311\u001b[1;33m             \u001b[1;32mreturn\u001b[0m \u001b[0mfunc\u001b[0m\u001b[1;33m(\u001b[0m\u001b[1;33m*\u001b[0m\u001b[0margs\u001b[0m\u001b[1;33m,\u001b[0m \u001b[1;33m**\u001b[0m\u001b[0mkwargs\u001b[0m\u001b[1;33m)\u001b[0m\u001b[1;33m\u001b[0m\u001b[1;33m\u001b[0m\u001b[0m\n\u001b[0m\u001b[0;32m    312\u001b[0m \u001b[1;33m\u001b[0m\u001b[0m\n\u001b[0;32m    313\u001b[0m         \u001b[1;32mreturn\u001b[0m \u001b[0mwrapper\u001b[0m\u001b[1;33m\u001b[0m\u001b[1;33m\u001b[0m\u001b[0m\n",
      "\u001b[1;32m~\\AppData\\Local\\Programs\\Python\\Python310\\lib\\site-packages\\pandas\\io\\parsers\\readers.py\u001b[0m in \u001b[0;36mread_csv\u001b[1;34m(filepath_or_buffer, sep, delimiter, header, names, index_col, usecols, squeeze, prefix, mangle_dupe_cols, dtype, engine, converters, true_values, false_values, skipinitialspace, skiprows, skipfooter, nrows, na_values, keep_default_na, na_filter, verbose, skip_blank_lines, parse_dates, infer_datetime_format, keep_date_col, date_parser, dayfirst, cache_dates, iterator, chunksize, compression, thousands, decimal, lineterminator, quotechar, quoting, doublequote, escapechar, comment, encoding, encoding_errors, dialect, error_bad_lines, warn_bad_lines, on_bad_lines, delim_whitespace, low_memory, memory_map, float_precision, storage_options)\u001b[0m\n\u001b[0;32m    584\u001b[0m     \u001b[0mkwds\u001b[0m\u001b[1;33m.\u001b[0m\u001b[0mupdate\u001b[0m\u001b[1;33m(\u001b[0m\u001b[0mkwds_defaults\u001b[0m\u001b[1;33m)\u001b[0m\u001b[1;33m\u001b[0m\u001b[1;33m\u001b[0m\u001b[0m\n\u001b[0;32m    585\u001b[0m \u001b[1;33m\u001b[0m\u001b[0m\n\u001b[1;32m--> 586\u001b[1;33m     \u001b[1;32mreturn\u001b[0m \u001b[0m_read\u001b[0m\u001b[1;33m(\u001b[0m\u001b[0mfilepath_or_buffer\u001b[0m\u001b[1;33m,\u001b[0m \u001b[0mkwds\u001b[0m\u001b[1;33m)\u001b[0m\u001b[1;33m\u001b[0m\u001b[1;33m\u001b[0m\u001b[0m\n\u001b[0m\u001b[0;32m    587\u001b[0m \u001b[1;33m\u001b[0m\u001b[0m\n\u001b[0;32m    588\u001b[0m \u001b[1;33m\u001b[0m\u001b[0m\n",
      "\u001b[1;32m~\\AppData\\Local\\Programs\\Python\\Python310\\lib\\site-packages\\pandas\\io\\parsers\\readers.py\u001b[0m in \u001b[0;36m_read\u001b[1;34m(filepath_or_buffer, kwds)\u001b[0m\n\u001b[0;32m    480\u001b[0m \u001b[1;33m\u001b[0m\u001b[0m\n\u001b[0;32m    481\u001b[0m     \u001b[1;31m# Create the parser.\u001b[0m\u001b[1;33m\u001b[0m\u001b[1;33m\u001b[0m\u001b[0m\n\u001b[1;32m--> 482\u001b[1;33m     \u001b[0mparser\u001b[0m \u001b[1;33m=\u001b[0m \u001b[0mTextFileReader\u001b[0m\u001b[1;33m(\u001b[0m\u001b[0mfilepath_or_buffer\u001b[0m\u001b[1;33m,\u001b[0m \u001b[1;33m**\u001b[0m\u001b[0mkwds\u001b[0m\u001b[1;33m)\u001b[0m\u001b[1;33m\u001b[0m\u001b[1;33m\u001b[0m\u001b[0m\n\u001b[0m\u001b[0;32m    483\u001b[0m \u001b[1;33m\u001b[0m\u001b[0m\n\u001b[0;32m    484\u001b[0m     \u001b[1;32mif\u001b[0m \u001b[0mchunksize\u001b[0m \u001b[1;32mor\u001b[0m \u001b[0miterator\u001b[0m\u001b[1;33m:\u001b[0m\u001b[1;33m\u001b[0m\u001b[1;33m\u001b[0m\u001b[0m\n",
      "\u001b[1;32m~\\AppData\\Local\\Programs\\Python\\Python310\\lib\\site-packages\\pandas\\io\\parsers\\readers.py\u001b[0m in \u001b[0;36m__init__\u001b[1;34m(self, f, engine, **kwds)\u001b[0m\n\u001b[0;32m    809\u001b[0m             \u001b[0mself\u001b[0m\u001b[1;33m.\u001b[0m\u001b[0moptions\u001b[0m\u001b[1;33m[\u001b[0m\u001b[1;34m\"has_index_names\"\u001b[0m\u001b[1;33m]\u001b[0m \u001b[1;33m=\u001b[0m \u001b[0mkwds\u001b[0m\u001b[1;33m[\u001b[0m\u001b[1;34m\"has_index_names\"\u001b[0m\u001b[1;33m]\u001b[0m\u001b[1;33m\u001b[0m\u001b[1;33m\u001b[0m\u001b[0m\n\u001b[0;32m    810\u001b[0m \u001b[1;33m\u001b[0m\u001b[0m\n\u001b[1;32m--> 811\u001b[1;33m         \u001b[0mself\u001b[0m\u001b[1;33m.\u001b[0m\u001b[0m_engine\u001b[0m \u001b[1;33m=\u001b[0m \u001b[0mself\u001b[0m\u001b[1;33m.\u001b[0m\u001b[0m_make_engine\u001b[0m\u001b[1;33m(\u001b[0m\u001b[0mself\u001b[0m\u001b[1;33m.\u001b[0m\u001b[0mengine\u001b[0m\u001b[1;33m)\u001b[0m\u001b[1;33m\u001b[0m\u001b[1;33m\u001b[0m\u001b[0m\n\u001b[0m\u001b[0;32m    812\u001b[0m \u001b[1;33m\u001b[0m\u001b[0m\n\u001b[0;32m    813\u001b[0m     \u001b[1;32mdef\u001b[0m \u001b[0mclose\u001b[0m\u001b[1;33m(\u001b[0m\u001b[0mself\u001b[0m\u001b[1;33m)\u001b[0m\u001b[1;33m:\u001b[0m\u001b[1;33m\u001b[0m\u001b[1;33m\u001b[0m\u001b[0m\n",
      "\u001b[1;32m~\\AppData\\Local\\Programs\\Python\\Python310\\lib\\site-packages\\pandas\\io\\parsers\\readers.py\u001b[0m in \u001b[0;36m_make_engine\u001b[1;34m(self, engine)\u001b[0m\n\u001b[0;32m   1038\u001b[0m             )\n\u001b[0;32m   1039\u001b[0m         \u001b[1;31m# error: Too many arguments for \"ParserBase\"\u001b[0m\u001b[1;33m\u001b[0m\u001b[1;33m\u001b[0m\u001b[0m\n\u001b[1;32m-> 1040\u001b[1;33m         \u001b[1;32mreturn\u001b[0m \u001b[0mmapping\u001b[0m\u001b[1;33m[\u001b[0m\u001b[0mengine\u001b[0m\u001b[1;33m]\u001b[0m\u001b[1;33m(\u001b[0m\u001b[0mself\u001b[0m\u001b[1;33m.\u001b[0m\u001b[0mf\u001b[0m\u001b[1;33m,\u001b[0m \u001b[1;33m**\u001b[0m\u001b[0mself\u001b[0m\u001b[1;33m.\u001b[0m\u001b[0moptions\u001b[0m\u001b[1;33m)\u001b[0m  \u001b[1;31m# type: ignore[call-arg]\u001b[0m\u001b[1;33m\u001b[0m\u001b[1;33m\u001b[0m\u001b[0m\n\u001b[0m\u001b[0;32m   1041\u001b[0m \u001b[1;33m\u001b[0m\u001b[0m\n\u001b[0;32m   1042\u001b[0m     \u001b[1;32mdef\u001b[0m \u001b[0m_failover_to_python\u001b[0m\u001b[1;33m(\u001b[0m\u001b[0mself\u001b[0m\u001b[1;33m)\u001b[0m\u001b[1;33m:\u001b[0m\u001b[1;33m\u001b[0m\u001b[1;33m\u001b[0m\u001b[0m\n",
      "\u001b[1;32m~\\AppData\\Local\\Programs\\Python\\Python310\\lib\\site-packages\\pandas\\io\\parsers\\c_parser_wrapper.py\u001b[0m in \u001b[0;36m__init__\u001b[1;34m(self, src, **kwds)\u001b[0m\n\u001b[0;32m     49\u001b[0m \u001b[1;33m\u001b[0m\u001b[0m\n\u001b[0;32m     50\u001b[0m         \u001b[1;31m# open handles\u001b[0m\u001b[1;33m\u001b[0m\u001b[1;33m\u001b[0m\u001b[0m\n\u001b[1;32m---> 51\u001b[1;33m         \u001b[0mself\u001b[0m\u001b[1;33m.\u001b[0m\u001b[0m_open_handles\u001b[0m\u001b[1;33m(\u001b[0m\u001b[0msrc\u001b[0m\u001b[1;33m,\u001b[0m \u001b[0mkwds\u001b[0m\u001b[1;33m)\u001b[0m\u001b[1;33m\u001b[0m\u001b[1;33m\u001b[0m\u001b[0m\n\u001b[0m\u001b[0;32m     52\u001b[0m         \u001b[1;32massert\u001b[0m \u001b[0mself\u001b[0m\u001b[1;33m.\u001b[0m\u001b[0mhandles\u001b[0m \u001b[1;32mis\u001b[0m \u001b[1;32mnot\u001b[0m \u001b[1;32mNone\u001b[0m\u001b[1;33m\u001b[0m\u001b[1;33m\u001b[0m\u001b[0m\n\u001b[0;32m     53\u001b[0m \u001b[1;33m\u001b[0m\u001b[0m\n",
      "\u001b[1;32m~\\AppData\\Local\\Programs\\Python\\Python310\\lib\\site-packages\\pandas\\io\\parsers\\base_parser.py\u001b[0m in \u001b[0;36m_open_handles\u001b[1;34m(self, src, kwds)\u001b[0m\n\u001b[0;32m    220\u001b[0m         \u001b[0mLet\u001b[0m \u001b[0mthe\u001b[0m \u001b[0mreaders\u001b[0m \u001b[0mopen\u001b[0m \u001b[0mIOHandles\u001b[0m \u001b[0mafter\u001b[0m \u001b[0mthey\u001b[0m \u001b[0mare\u001b[0m \u001b[0mdone\u001b[0m \u001b[1;32mwith\u001b[0m \u001b[0mtheir\u001b[0m \u001b[0mpotential\u001b[0m \u001b[0mraises\u001b[0m\u001b[1;33m.\u001b[0m\u001b[1;33m\u001b[0m\u001b[1;33m\u001b[0m\u001b[0m\n\u001b[0;32m    221\u001b[0m         \"\"\"\n\u001b[1;32m--> 222\u001b[1;33m         self.handles = get_handle(\n\u001b[0m\u001b[0;32m    223\u001b[0m             \u001b[0msrc\u001b[0m\u001b[1;33m,\u001b[0m\u001b[1;33m\u001b[0m\u001b[1;33m\u001b[0m\u001b[0m\n\u001b[0;32m    224\u001b[0m             \u001b[1;34m\"r\"\u001b[0m\u001b[1;33m,\u001b[0m\u001b[1;33m\u001b[0m\u001b[1;33m\u001b[0m\u001b[0m\n",
      "\u001b[1;32m~\\AppData\\Local\\Programs\\Python\\Python310\\lib\\site-packages\\pandas\\io\\common.py\u001b[0m in \u001b[0;36mget_handle\u001b[1;34m(path_or_buf, mode, encoding, compression, memory_map, is_text, errors, storage_options)\u001b[0m\n\u001b[0;32m    700\u001b[0m         \u001b[1;32mif\u001b[0m \u001b[0mioargs\u001b[0m\u001b[1;33m.\u001b[0m\u001b[0mencoding\u001b[0m \u001b[1;32mand\u001b[0m \u001b[1;34m\"b\"\u001b[0m \u001b[1;32mnot\u001b[0m \u001b[1;32min\u001b[0m \u001b[0mioargs\u001b[0m\u001b[1;33m.\u001b[0m\u001b[0mmode\u001b[0m\u001b[1;33m:\u001b[0m\u001b[1;33m\u001b[0m\u001b[1;33m\u001b[0m\u001b[0m\n\u001b[0;32m    701\u001b[0m             \u001b[1;31m# Encoding\u001b[0m\u001b[1;33m\u001b[0m\u001b[1;33m\u001b[0m\u001b[0m\n\u001b[1;32m--> 702\u001b[1;33m             handle = open(\n\u001b[0m\u001b[0;32m    703\u001b[0m                 \u001b[0mhandle\u001b[0m\u001b[1;33m,\u001b[0m\u001b[1;33m\u001b[0m\u001b[1;33m\u001b[0m\u001b[0m\n\u001b[0;32m    704\u001b[0m                 \u001b[0mioargs\u001b[0m\u001b[1;33m.\u001b[0m\u001b[0mmode\u001b[0m\u001b[1;33m,\u001b[0m\u001b[1;33m\u001b[0m\u001b[1;33m\u001b[0m\u001b[0m\n",
      "\u001b[1;31mFileNotFoundError\u001b[0m: [Errno 2] No such file or directory: '../input/tabular-playground-series-nov-2021/train.csv'"
     ]
    }
   ],
   "source": [
    "train_df = pd.read_csv(\"../input/tabular-playground-series-nov-2021/train.csv\")\n",
    "test_df = pd.read_csv(\"../input/tabular-playground-series-nov-2021/test.csv\")\n",
    "sub_df = pd.read_csv(\"../input/tabular-playground-series-nov-2021/sample_submission.csv\")"
   ]
  },
  {
   "cell_type": "markdown",
   "id": "43e9fdb2",
   "metadata": {
    "execution": {
     "iopub.status.busy": "2021-11-06T21:03:59.025049Z",
     "iopub.status.idle": "2021-11-06T21:03:59.025433Z",
     "shell.execute_reply": "2021-11-06T21:03:59.025235Z",
     "shell.execute_reply.started": "2021-11-06T21:03:59.025211Z"
    },
    "papermill": {
     "duration": 0.008898,
     "end_time": "2021-11-07T13:53:13.140059",
     "exception": false,
     "start_time": "2021-11-07T13:53:13.131161",
     "status": "completed"
    },
    "tags": []
   },
   "source": [
    "Seperating features and targets"
   ]
  },
  {
   "cell_type": "code",
   "execution_count": 3,
   "id": "c2f23e24",
   "metadata": {
    "execution": {
     "iopub.execute_input": "2021-11-07T13:53:13.162178Z",
     "iopub.status.busy": "2021-11-07T13:53:13.161230Z",
     "iopub.status.idle": "2021-11-07T13:53:13.623226Z",
     "shell.execute_reply": "2021-11-07T13:53:13.623738Z",
     "shell.execute_reply.started": "2021-11-07T05:18:08.155255Z"
    },
    "papermill": {
     "duration": 0.474695,
     "end_time": "2021-11-07T13:53:13.623912",
     "exception": false,
     "start_time": "2021-11-07T13:53:13.149217",
     "status": "completed"
    },
    "tags": []
   },
   "outputs": [],
   "source": [
    "train_df.drop(columns=[\"id\"], inplace=True)\n",
    "test_df.drop(columns=[\"id\"], inplace=True)\n",
    "\n",
    "X = train_df.drop(columns=[\"target\"]).values\n",
    "y = train_df[\"target\"].values"
   ]
  },
  {
   "cell_type": "markdown",
   "id": "1b87251f",
   "metadata": {
    "papermill": {
     "duration": 0.009202,
     "end_time": "2021-11-07T13:53:13.642321",
     "exception": false,
     "start_time": "2021-11-07T13:53:13.633119",
     "status": "completed"
    },
    "tags": []
   },
   "source": [
    "## Building SNN Model"
   ]
  },
  {
   "cell_type": "markdown",
   "id": "d341fc91",
   "metadata": {
    "papermill": {
     "duration": 0.008863,
     "end_time": "2021-11-07T13:53:13.660468",
     "exception": false,
     "start_time": "2021-11-07T13:53:13.651605",
     "status": "completed"
    },
    "tags": []
   },
   "source": [
    "Notice that, the **[LeCun Normal](https://www.tensorflow.org/api_docs/python/tf/keras/initializers/LecunNormal)** kernel initializer is used instead of the default one. Although, this network does not contains dropout layers, deep networks with large number of neurons can have [dropout](https://keras.io/api/layers/regularization_layers/dropout/) layers. However, the authors of the SNN paper have advised not to use this dropout. Instead they have proposed a new dropout technique called **alpha dropout** and have also suggested to use it instead. **[Alpha dropout](https://keras.io/api/layers/regularization_layers/alpha_dropout/)** is available as a layer in keras.\n",
    "\n",
    "Although in this case I have built an SNN with only 2 layers, it is possible to stack many layers in an SNN. I have used 160 neurons in the first hidden layer and 96 neurons in the second hidden layer."
   ]
  },
  {
   "cell_type": "code",
   "execution_count": 1,
   "id": "ef3a1d10",
   "metadata": {
    "execution": {
     "iopub.execute_input": "2021-11-07T13:53:13.683020Z",
     "iopub.status.busy": "2021-11-07T13:53:13.682086Z",
     "iopub.status.idle": "2021-11-07T13:53:19.951033Z",
     "shell.execute_reply": "2021-11-07T13:53:19.951534Z",
     "shell.execute_reply.started": "2021-11-07T05:18:14.356233Z"
    },
    "papermill": {
     "duration": 6.281879,
     "end_time": "2021-11-07T13:53:19.951707",
     "exception": false,
     "start_time": "2021-11-07T13:53:13.669828",
     "status": "completed"
    },
    "tags": []
   },
   "outputs": [
    {
     "ename": "ModuleNotFoundError",
     "evalue": "No module named 'tensorflow'",
     "output_type": "error",
     "traceback": [
      "\u001b[1;31m---------------------------------------------------------------------------\u001b[0m",
      "\u001b[1;31mModuleNotFoundError\u001b[0m                       Traceback (most recent call last)",
      "\u001b[1;32mC:\\Users\\ATLAPA~1\\AppData\\Local\\Temp/ipykernel_17604/2859758030.py\u001b[0m in \u001b[0;36m<module>\u001b[1;34m\u001b[0m\n\u001b[1;32m----> 1\u001b[1;33m \u001b[1;32mfrom\u001b[0m \u001b[0mtensorflow\u001b[0m\u001b[1;33m.\u001b[0m\u001b[0mkeras\u001b[0m \u001b[1;32mimport\u001b[0m \u001b[0mlayers\u001b[0m\u001b[1;33m\u001b[0m\u001b[1;33m\u001b[0m\u001b[0m\n\u001b[0m\u001b[0;32m      2\u001b[0m \u001b[1;32mfrom\u001b[0m \u001b[0mtensorflow\u001b[0m\u001b[1;33m.\u001b[0m\u001b[0mkeras\u001b[0m\u001b[1;33m.\u001b[0m\u001b[0mmodels\u001b[0m \u001b[1;32mimport\u001b[0m \u001b[0mSequential\u001b[0m\u001b[1;33m\u001b[0m\u001b[1;33m\u001b[0m\u001b[0m\n\u001b[0;32m      3\u001b[0m \u001b[1;33m\u001b[0m\u001b[0m\n\u001b[0;32m      4\u001b[0m \u001b[1;33m\u001b[0m\u001b[0m\n\u001b[0;32m      5\u001b[0m \u001b[1;32mdef\u001b[0m \u001b[0mbuild_model\u001b[0m\u001b[1;33m(\u001b[0m\u001b[1;33m)\u001b[0m\u001b[1;33m:\u001b[0m\u001b[1;33m\u001b[0m\u001b[1;33m\u001b[0m\u001b[0m\n",
      "\u001b[1;31mModuleNotFoundError\u001b[0m: No module named 'tensorflow'"
     ]
    }
   ],
   "source": [
    "from tensorflow.keras import layers\n",
    "from tensorflow.keras.models import Sequential\n",
    "\n",
    "\n",
    "def build_model():\n",
    "    model = Sequential([\n",
    "        layers.Dense(units=160, activation=\"selu\", kernel_initializer=\"lecun_normal\", input_shape=X.shape[1:]),\n",
    "        layers.Dense(units=96, activation=\"selu\", kernel_initializer=\"lecun_normal\"),\n",
    "        layers.Dense(units=1, activation=\"sigmoid\")\n",
    "    ])\n",
    "\n",
    "    model.compile(\n",
    "        optimizer=\"adam\",\n",
    "        loss=\"binary_crossentropy\",\n",
    "        metrics=[\"AUC\"]\n",
    "    )\n",
    "\n",
    "    return model\n",
    "\n",
    "\n",
    "build_model().summary()"
   ]
  },
  {
   "cell_type": "markdown",
   "id": "dc2e8a98",
   "metadata": {
    "papermill": {
     "duration": 0.009729,
     "end_time": "2021-11-07T13:53:19.971671",
     "exception": false,
     "start_time": "2021-11-07T13:53:19.961942",
     "status": "completed"
    },
    "tags": []
   },
   "source": [
    "Defining Various callbacks"
   ]
  },
  {
   "cell_type": "code",
   "execution_count": 5,
   "id": "2513c7d8",
   "metadata": {
    "execution": {
     "iopub.execute_input": "2021-11-07T13:53:19.995732Z",
     "iopub.status.busy": "2021-11-07T13:53:19.995054Z",
     "iopub.status.idle": "2021-11-07T13:53:20.002102Z",
     "shell.execute_reply": "2021-11-07T13:53:20.002605Z",
     "shell.execute_reply.started": "2021-11-07T05:18:34.805717Z"
    },
    "papermill": {
     "duration": 0.020625,
     "end_time": "2021-11-07T13:53:20.002801",
     "exception": false,
     "start_time": "2021-11-07T13:53:19.982176",
     "status": "completed"
    },
    "tags": []
   },
   "outputs": [],
   "source": [
    "from tensorflow.keras.callbacks import ReduceLROnPlateau, EarlyStopping\n",
    "\n",
    "\n",
    "reduce_lr = ReduceLROnPlateau(\n",
    "    monitor=\"val_loss\",\n",
    "    factor=0.8,\n",
    "    patience=10,\n",
    ")\n",
    "\n",
    "early_stop = EarlyStopping(\n",
    "    monitor=\"val_loss\",\n",
    "    patience=60,\n",
    "    restore_best_weights=True\n",
    ")\n",
    "\n",
    "callbacks = [reduce_lr, early_stop]"
   ]
  },
  {
   "cell_type": "markdown",
   "id": "68efcba1",
   "metadata": {
    "papermill": {
     "duration": 0.01,
     "end_time": "2021-11-07T13:53:20.022710",
     "exception": false,
     "start_time": "2021-11-07T13:53:20.012710",
     "status": "completed"
    },
    "tags": []
   },
   "source": [
    "## Training Model"
   ]
  },
  {
   "cell_type": "markdown",
   "id": "e33f979f",
   "metadata": {
    "papermill": {
     "duration": 0.009869,
     "end_time": "2021-11-07T13:53:20.042651",
     "exception": false,
     "start_time": "2021-11-07T13:53:20.032782",
     "status": "completed"
    },
    "tags": []
   },
   "source": [
    "I have used the StratifiedKFold validation strategy with 7 folds. To speed up the model training, a batch size of 2048 is used."
   ]
  },
  {
   "cell_type": "code",
   "execution_count": 6,
   "id": "a6d6884b",
   "metadata": {
    "execution": {
     "iopub.execute_input": "2021-11-07T13:53:20.071765Z",
     "iopub.status.busy": "2021-11-07T13:53:20.071034Z",
     "iopub.status.idle": "2021-11-07T15:24:52.043685Z",
     "shell.execute_reply": "2021-11-07T15:24:52.044450Z",
     "shell.execute_reply.started": "2021-11-07T05:19:27.236344Z"
    },
    "papermill": {
     "duration": 5491.992409,
     "end_time": "2021-11-07T15:24:52.044797",
     "exception": false,
     "start_time": "2021-11-07T13:53:20.052388",
     "status": "completed"
    },
    "tags": []
   },
   "outputs": [
    {
     "name": "stderr",
     "output_type": "stream",
     "text": [
      "2021-11-07 13:53:22.777451: I tensorflow/compiler/mlir/mlir_graph_optimization_pass.cc:185] None of the MLIR Optimization Passes are enabled (registered 2)\n"
     ]
    },
    {
     "name": "stdout",
     "output_type": "stream",
     "text": [
      "FOLD 0 | Score: 0.753520126342355\n",
      "FOLD 1 | Score: 0.7517027327737468\n",
      "FOLD 2 | Score: 0.7518236041418409\n",
      "FOLD 3 | Score: 0.7550353868193339\n",
      "FOLD 4 | Score: 0.7535631363554156\n",
      "FOLD 5 | Score: 0.7536377961395959\n",
      "FOLD 6 | Score: 0.7578906297465712\n",
      "\n",
      "Mean score of all folds: 0.7538819160455513\n"
     ]
    }
   ],
   "source": [
    "from sklearn.preprocessing import MinMaxScaler\n",
    "from sklearn.metrics import roc_auc_score\n",
    "from sklearn.model_selection import StratifiedKFold\n",
    "\n",
    "\n",
    "EPOCHS = 500\n",
    "BATCH_SIZE = 2048\n",
    "FOLDS = 7\n",
    "\n",
    "cv = StratifiedKFold(n_splits=FOLDS, shuffle=True, random_state=42)\n",
    "test_preds = []\n",
    "mean_score = 0\n",
    "\n",
    "for fold, (train_idx, val_idx) in enumerate(cv.split(X, y)):\n",
    "    X_train, y_train = X[train_idx], y[train_idx]\n",
    "    X_val, y_val = X[val_idx], y[val_idx]\n",
    "\n",
    "    scaler = MinMaxScaler()\n",
    "\n",
    "    X_train = scaler.fit_transform(X_train)\n",
    "    X_val = scaler.transform(X_val)\n",
    "    X_test = scaler.transform(test_df)\n",
    "\n",
    "    model = build_model()\n",
    "\n",
    "    model.fit(\n",
    "        X_train,\n",
    "        y_train,\n",
    "        validation_data=(X_val, y_val),\n",
    "        epochs=EPOCHS,\n",
    "        batch_size=BATCH_SIZE,\n",
    "        callbacks=[reduce_lr, early_stop],\n",
    "        verbose=False\n",
    "    )\n",
    "\n",
    "    y_pred = model.predict(X_val)\n",
    "    score = roc_auc_score(y_val, y_pred)\n",
    "    mean_score += score\n",
    "\n",
    "    print(f\"FOLD {fold} | Score: {score}\")\n",
    "\n",
    "    test_preds.append(model.predict(X_test))\n",
    "\n",
    "\n",
    "print()\n",
    "print(f\"Mean score of all folds: {mean_score/FOLDS}\")"
   ]
  },
  {
   "cell_type": "code",
   "execution_count": 7,
   "id": "84832d16",
   "metadata": {
    "execution": {
     "iopub.execute_input": "2021-11-07T15:24:52.074512Z",
     "iopub.status.busy": "2021-11-07T15:24:52.073812Z",
     "iopub.status.idle": "2021-11-07T15:24:53.112082Z",
     "shell.execute_reply": "2021-11-07T15:24:53.111523Z",
     "shell.execute_reply.started": "2021-11-06T22:14:21.425918Z"
    },
    "papermill": {
     "duration": 1.054406,
     "end_time": "2021-11-07T15:24:53.112240",
     "exception": false,
     "start_time": "2021-11-07T15:24:52.057834",
     "status": "completed"
    },
    "tags": []
   },
   "outputs": [
    {
     "data": {
      "text/html": [
       "<div>\n",
       "<style scoped>\n",
       "    .dataframe tbody tr th:only-of-type {\n",
       "        vertical-align: middle;\n",
       "    }\n",
       "\n",
       "    .dataframe tbody tr th {\n",
       "        vertical-align: top;\n",
       "    }\n",
       "\n",
       "    .dataframe thead th {\n",
       "        text-align: right;\n",
       "    }\n",
       "</style>\n",
       "<table border=\"1\" class=\"dataframe\">\n",
       "  <thead>\n",
       "    <tr style=\"text-align: right;\">\n",
       "      <th></th>\n",
       "      <th>id</th>\n",
       "      <th>target</th>\n",
       "    </tr>\n",
       "  </thead>\n",
       "  <tbody>\n",
       "    <tr>\n",
       "      <th>0</th>\n",
       "      <td>600000</td>\n",
       "      <td>0.729144</td>\n",
       "    </tr>\n",
       "    <tr>\n",
       "      <th>1</th>\n",
       "      <td>600001</td>\n",
       "      <td>0.748575</td>\n",
       "    </tr>\n",
       "    <tr>\n",
       "      <th>2</th>\n",
       "      <td>600002</td>\n",
       "      <td>0.756956</td>\n",
       "    </tr>\n",
       "    <tr>\n",
       "      <th>3</th>\n",
       "      <td>600003</td>\n",
       "      <td>0.346804</td>\n",
       "    </tr>\n",
       "    <tr>\n",
       "      <th>4</th>\n",
       "      <td>600004</td>\n",
       "      <td>0.731332</td>\n",
       "    </tr>\n",
       "  </tbody>\n",
       "</table>\n",
       "</div>"
      ],
      "text/plain": [
       "       id    target\n",
       "0  600000  0.729144\n",
       "1  600001  0.748575\n",
       "2  600002  0.756956\n",
       "3  600003  0.346804\n",
       "4  600004  0.731332"
      ]
     },
     "execution_count": 7,
     "metadata": {},
     "output_type": "execute_result"
    }
   ],
   "source": [
    "sub_df[\"target\"] = sum(test_preds)/FOLDS\n",
    "sub_df.to_csv(\"submission.csv\", index=False)\n",
    "\n",
    "sub_df.head()"
   ]
  }
 ],
 "metadata": {
  "kernelspec": {
   "display_name": "Python 3 (ipykernel)",
   "language": "python",
   "name": "python3"
  },
  "language_info": {
   "codemirror_mode": {
    "name": "ipython",
    "version": 3
   },
   "file_extension": ".py",
   "mimetype": "text/x-python",
   "name": "python",
   "nbconvert_exporter": "python",
   "pygments_lexer": "ipython3",
   "version": "3.10.0"
  },
  "papermill": {
   "default_parameters": {},
   "duration": 5537.16571,
   "end_time": "2021-11-07T15:24:56.241522",
   "environment_variables": {},
   "exception": null,
   "input_path": "__notebook__.ipynb",
   "output_path": "__notebook__.ipynb",
   "parameters": {},
   "start_time": "2021-11-07T13:52:39.075812",
   "version": "2.3.3"
  }
 },
 "nbformat": 4,
 "nbformat_minor": 5
}
